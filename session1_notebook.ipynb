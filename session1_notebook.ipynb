{
 "cells": [
  {
   "cell_type": "markdown",
   "id": "c699717b-0e06-4424-ba34-9daa1fa3a41d",
   "metadata": {},
   "source": [
    "### Train a Simple Classifier\n",
    "\n",
    "In our first session we learned about training a classifier on the MNIST Images. The thing about MNIST though is the dataset is very simple! Today we will repeat this, but with a slightly more complex dataset known as CIFAR10. This will also motivate why we love Convolutions later!\n",
    "\n"
   ]
  },
  {
   "cell_type": "code",
   "execution_count": 26,
   "id": "5f29007a-db78-4200-8fe5-2d9e53e561d1",
   "metadata": {},
   "outputs": [
    {
     "name": "stdout",
     "output_type": "stream",
     "text": [
      "2.6.0\n"
     ]
    }
   ],
   "source": [
    "import numpy as np\n",
    "import torch\n",
    "import torch.nn as nn\n",
    "import torch.optim as optim\n",
    "import torchvision\n",
    "import torchvision.transforms as transforms\n",
    "from torch.utils.data import DataLoader\n",
    "import matplotlib.pyplot as plt\n",
    "print(torch.__version__)\n"
   ]
  },
  {
   "cell_type": "markdown",
   "id": "04642c9f-093c-4131-8c7b-3c98d76b36d1",
   "metadata": {},
   "source": [
    "### Lets Explore the Data\n",
    "\n",
    "We will load the data here, lets take a quick look at what it looks like!"
   ]
  },
  {
   "cell_type": "code",
   "execution_count": 27,
   "id": "036a7069-c5ca-4056-b676-dd95486fb77e",
   "metadata": {},
   "outputs": [
    {
     "data": {
      "image/png": "[encoded data removed]",
      "text/plain": [
       "<Figure size 640x480 with 1 Axes>"
      ]
     },
     "metadata": {},
     "output_type": "display_data"
    }
   ],
   "source": [
    "trainset = torchvision.datasets.CIFAR10(root='./data', train=True, download=True)\n",
    "\n",
    "sample, label = next(iter(trainset))\n",
    "\n",
    "plt.imshow(np.array(sample))\n",
    "plt.axis(\"off\")\n",
    "plt.show()"
   ]
  },
  {
   "cell_type": "markdown",
   "id": "95aedd0d-ad5b-4ca2-af8e-388e9ba1c757",
   "metadata": {},
   "source": [
    "Thats a Frog! Just like MNIST there are 10 classes of images that we need to classify between!\n",
    "\n",
    "### Define a Model\n",
    "\n",
    "You can use any model shape you want, just use Linear layers only though. This means you can test how many hidden nodes to have in intermediate layers, and also how many layers you want in total. You can also play with different activation functions to see what works better!"
   ]
  },
  {
   "cell_type": "code",
   "execution_count": 28,
   "id": "ab0c12e7-1df4-43b2-85a1-353e94c2d31a",
   "metadata": {},
   "outputs": [
    {
     "data": {
      "text/plain": [
       "LinearNN(\n",
       "  (fc1): Linear(in_features=3072, out_features=128, bias=True)\n",
       "  (fc2): Linear(in_features=128, out_features=64, bias=True)\n",
       "  (fc3): Linear(in_features=64, out_features=10, bias=True)\n",
       "  (relu): ReLU()\n",
       ")"
      ]
     },
     "execution_count": 28,
     "metadata": {},
     "output_type": "execute_result"
    }
   ],
   "source": [
    "class LinearNN(nn.Module):\n",
    "    def __init__(self, input_size=32*32*3, num_classes=10):\n",
    "        super(LinearNN, self).__init__()\n",
    "        \n",
    "        # Define the model parts using linear layers\n",
    "        self.fc1 = nn.Linear(input_size, 128)  # First hidden layer\n",
    "        self.fc2 = nn.Linear(128, 64)        # Second hidden layer\n",
    "        self.fc3 = nn.Linear(64, num_classes)  # Output layer\n",
    "        self.relu = nn.ReLU()  # Activation function\n",
    "        \n",
    "    def forward(self, x):\n",
    "        # Flatten the input\n",
    "        x = x.view(x.size(0), -1)\n",
    "        \n",
    "        # Pass through the layers with activation\n",
    "        x = self.relu(self.fc1(x))\n",
    "        x = self.relu(self.fc2(x))\n",
    "        x = self.fc3(x)\n",
    "        \n",
    "        return x\n",
    "model = LinearNN()\n",
    "model"
   ]
  },
  {
   "cell_type": "markdown",
   "id": "ceed55dc-b985-4018-b2c4-ad5647573331",
   "metadata": {},
   "source": [
    "### Define a Dataloader\n",
    "\n",
    "We Now need to prepare our dataloader with the batch size we want to train with! I provide the datasets here (with some simple image transforms such as converting PIL to tensor and then normalizing). Create the dataloaders from that!"
   ]
  },
  {
   "cell_type": "code",
   "execution_count": 29,
   "id": "3b1872b9-2e0a-4f24-9a2f-ca0a8062bd95",
   "metadata": {},
   "outputs": [],
   "source": [
    "transform = transforms.Compose([\n",
    "    transforms.ToTensor(),\n",
    "    transforms.Normalize((0.5, 0.5, 0.5), (0.5, 0.5, 0.5))\n",
    "])\n",
    "\n",
    "trainset = torchvision.datasets.CIFAR10(root='./data', train=True, download=True, transform=transform)\n",
    "testset = torchvision.datasets.CIFAR10(root='./data', train=False, download=True, transform=transform)\n",
    "\n",
    "BATCH_SIZE = 64\n",
    "# shuffle is to randomize the order of the data to avoid overfitting\n",
    "trainloader = DataLoader(trainset, batch_size=BATCH_SIZE, shuffle=True)\n",
    "testloader = DataLoader(testset, batch_size=BATCH_SIZE, shuffle=False)\n"
   ]
  },
  {
   "cell_type": "markdown",
   "id": "8c67b72e-eb83-4bdf-aafe-022d2d6ac75d",
   "metadata": {},
   "source": [
    "### Train a Model\n",
    "\n",
    "Train your model for however many epochs you want. Make sure to calculate the average loss and accuracy per epoch for both the training set and evaluation set so we can plot our training curves after!\n",
    "\n",
    "Things we need to set:\n",
    "\n",
    "- Device\n",
    "- Loss Function (what loss do we use for classification?)\n",
    "- Optimizer (you can use whatever you want, and whatever learning rate you want)"
   ]
  },
  {
   "cell_type": "code",
   "execution_count": null,
   "id": "7fb312da-ac5b-4d78-b2c5-3fbef4472a47",
   "metadata": {},
   "outputs": [
    {
     "name": "stdout",
     "output_type": "stream",
     "text": [
      "Epoch 1/10, Train Loss: 1.2834, Train Accuracy: 60.81%, Val Loss: 0.7751, Val Accuracy: 73.50%\n",
      "Epoch 2/10, Train Loss: 0.6823, Train Accuracy: 76.39%, Val Loss: 0.6799, Val Accuracy: 76.92%\n"
     ]
    }
   ],
   "source": [
    "### Set the Device ###\n",
    "device = \"cuda\" if torch.cuda.is_available() else \"cpu\"\n",
    "\n",
    "### Set the Loss Function ###\n",
    "criterion = torch.nn.CrossEntropyLoss() # this is good for multi-class classification\n",
    "\n",
    "\n",
    "### Load the Model ###\n",
    "import torchvision.models as models\n",
    "model = models.resnet18(weights=\"IMAGENET1K_V1\")    # pretrained model\n",
    "\n",
    "### Set the Optimizer ###\n",
    "learning_rate = 0.001\n",
    "optimizer = optim.SGD(model.parameters(), lr=learning_rate, momentum=0.9)\n",
    "\n",
    "### Store metrics ###\n",
    "train_losses = []\n",
    "train_accuracies = []\n",
    "val_losses = []\n",
    "val_accuracies = []\n",
    "\n",
    "### Training Loop ###\n",
    "epochs = 10\n",
    "\n",
    "for epoch in range(epochs):\n",
    "    model.train()  # Set the model to training mode\n",
    "    running_loss = 0.0\n",
    "    correct = 0\n",
    "    total = 0\n",
    "    for i, (inputs, labels) in enumerate(trainloader):\n",
    "        inputs, labels = inputs.to(device), labels.to(device)\n",
    "        # Zero the parameter gradients since gradients are accumulated by default\n",
    "        optimizer.zero_grad()\n",
    "        # Forward pass\n",
    "        outputs = model(inputs)  # Forward pass: computes the predictions\n",
    "        loss = criterion(outputs, labels) # Compute the loss based on the difference between predictions and true labels\n",
    "        # Backward pass and optimize\n",
    "        loss.backward() # Backward pass: computes the gradients of the loss w.r.t. the model parameters\n",
    "        optimizer.step() # Updates the model's parameters using the computed gradients\n",
    "        # Statistics\n",
    "        running_loss += loss.item()\n",
    "        _, predicted = torch.max(outputs.data, 1)   # Get the predicted class, maximum for the best prediction       \n",
    "        total += labels.size(0)\n",
    "        correct += (predicted == labels).sum().item()\n",
    "    # Store metrics\n",
    "    train_loss = running_loss / len(trainloader)\n",
    "    train_accuracy = 100.0 * correct / total\n",
    "    train_losses.append(train_loss)\n",
    "    train_accuracies.append(train_accuracy)\n",
    "    # Validation phase\n",
    "    model.eval()  # Set the model to evaluation mode\n",
    "    val_running_loss = 0.0\n",
    "    val_correct = 0\n",
    "    val_total = 0\n",
    "    # Training and validation loop\n",
    "    with torch.no_grad():\n",
    "            for inputs, labels in testloader:\n",
    "                inputs, labels = inputs.to(device), labels.to(device)\n",
    "                # Forward pass\n",
    "                outputs = model(inputs)\n",
    "                loss = criterion(outputs, labels)\n",
    "                # Update metrics\n",
    "                val_running_loss += loss.item()\n",
    "                _, predicted = outputs.max(1)\n",
    "                val_total += labels.size(0)\n",
    "                val_correct += predicted.eq(labels).sum().item()\n",
    "    val_loss = val_running_loss / len(testloader)\n",
    "    val_accuracy = 100.0 * val_correct / val_total\n",
    "    val_losses.append(val_loss)\n",
    "    val_accuracies.append(val_accuracy)\n",
    "    # Print epoch metrics\n",
    "    print(f\"Epoch {epoch+1}/{epochs}, \"\n",
    "            f\"Train Loss: {train_loss:.4f}, Train Accuracy: {train_accuracy:.2f}%, \"\n",
    "            f\"Val Loss: {val_loss:.4f}, Val Accuracy: {val_accuracy:.2f}%\")\n",
    "### WRITE TRAINING LOOP ###\n",
    "### STORE THE PER EPOCH TRAIN/VAL LOSS/ACC IN THE ## \n",
    "### STORE METRICS LIST ABOVE ###\n",
    "\n"
   ]
  },
  {
   "cell_type": "markdown",
   "id": "22d3ba3b-eb34-4e39-ac36-4cf32527e81a",
   "metadata": {},
   "source": [
    "### Plot Loss and Accuracy"
   ]
  },
  {
   "cell_type": "code",
   "execution_count": 35,
   "id": "d1628551-5db5-4f9d-baeb-edf44f18eb3a",
   "metadata": {},
   "outputs": [
    {
     "data": {
      "image/png": "[encoded data removed]",
      "text/plain": [
       "<Figure size 1000x500 with 1 Axes>"
      ]
     },
     "metadata": {},
     "output_type": "display_data"
    },
    {
     "data": {
      "image/png": "[encoded data removed]",
      "text/plain": [
       "<Figure size 1000x500 with 1 Axes>"
      ]
     },
     "metadata": {},
     "output_type": "display_data"
    }
   ],
   "source": [
    "# Plot training and validation loss\n",
    "plt.figure(figsize=(10, 5))\n",
    "plt.plot(range(1, epochs + 1), train_losses, label='Train Loss')\n",
    "plt.plot(range(1, epochs + 1), val_losses, label='Validation Loss')\n",
    "plt.xlabel('Epochs')\n",
    "plt.ylabel('Loss')\n",
    "plt.legend()\n",
    "plt.title('Training and Validation Loss')\n",
    "plt.show()\n",
    "\n",
    "# Plot training and validation accuracy\n",
    "plt.figure(figsize=(10, 5))\n",
    "plt.plot(range(1, epochs + 1), train_accuracies, label='Train Accuracy')\n",
    "plt.plot(range(1, epochs + 1), val_accuracies, label='Validation Accuracy')\n",
    "plt.xlabel('Epochs')\n",
    "plt.ylabel('Accuracy (%)')\n",
    "plt.legend()\n",
    "plt.title('Training and Validation Accuracy')\n",
    "plt.show()"
   ]
  },
  {
   "cell_type": "code",
   "execution_count": null,
   "id": "92f182a1",
   "metadata": {},
   "outputs": [],
   "source": []
  }
 ],
 "metadata": {
  "kernelspec": {
   "display_name": "myenv-CI-Pathway",
   "language": "python",
   "name": "python3"
  },
  "language_info": {
   "codemirror_mode": {
    "name": "ipython",
    "version": 3
   },
   "file_extension": ".py",
   "mimetype": "text/x-python",
   "name": "python",
   "nbconvert_exporter": "python",
   "pygments_lexer": "ipython3",
   "version": "3.12.7"
  }
 },
 "nbformat": 4,
 "nbformat_minor": 5
}
