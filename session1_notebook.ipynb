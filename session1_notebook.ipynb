{
 "cells": [
  {
   "cell_type": "markdown",
   "id": "c699717b-0e06-4424-ba34-9daa1fa3a41d",
   "metadata": {},
   "source": [
    "### Train a Simple Classifier\n",
    "\n",
    "In our first session we learned about training a classifier on the MNIST Images. The thing about MNIST though is the dataset is very simple! Today we will repeat this, but with a slightly more complex dataset known as CIFAR10. This will also motivate why we love Convolutions later!\n",
    "\n"
   ]
  },
  {
   "cell_type": "code",
   "execution_count": 1,
   "id": "5f29007a-db78-4200-8fe5-2d9e53e561d1",
   "metadata": {},
   "outputs": [],
   "source": [
    "import numpy as np\n",
    "import torch\n",
    "import torch.nn as nn\n",
    "import torch.optim as optim\n",
    "import torchvision\n",
    "import torchvision.transforms as transforms\n",
    "from torch.utils.data import DataLoader\n",
    "import matplotlib.pyplot as plt\n"
   ]
  },
  {
   "cell_type": "markdown",
   "id": "04642c9f-093c-4131-8c7b-3c98d76b36d1",
   "metadata": {},
   "source": [
    "### Lets Explore the Data\n",
    "\n",
    "We will load the data here, lets take a quick look at what it looks like!"
   ]
  },
  {
   "cell_type": "code",
   "execution_count": 2,
   "id": "036a7069-c5ca-4056-b676-dd95486fb77e",
   "metadata": {},
   "outputs": [
    {
     "name": "stderr",
     "output_type": "stream",
     "text": [
      "100.0%\n"
     ]
    },
    {
     "data": {
      "image/png": "[encoded data removed]",
      "text/plain": [
       "<Figure size 640x480 with 1 Axes>"
      ]
     },
     "metadata": {},
     "output_type": "display_data"
    }
   ],
   "source": [
    "trainset = torchvision.datasets.CIFAR10(root='./data', train=True, download=True)\n",
    "\n",
    "sample, label = next(iter(trainset))\n",
    "\n",
    "plt.imshow(np.array(sample))\n",
    "plt.axis(\"off\")\n",
    "plt.show()"
   ]
  },
  {
   "cell_type": "markdown",
   "id": "95aedd0d-ad5b-4ca2-af8e-388e9ba1c757",
   "metadata": {},
   "source": [
    "Thats a Frog! Just like MNIST there are 10 classes of images that we need to classify between!\n",
    "\n",
    "### Define a Model\n",
    "\n",
    "You can use any model shape you want, just use Linear layers only though. This means you can test how many hidden nodes to have in intermediate layers, and also how many layers you want in total. You can also play with different activation functions to see what works better!"
   ]
  },
  {
   "cell_type": "code",
   "execution_count": null,
   "id": "ab0c12e7-1df4-43b2-85a1-353e94c2d31a",
   "metadata": {},
   "outputs": [
    {
     "ename": "NameError",
     "evalue": "name 'model' is not defined",
     "output_type": "error",
     "traceback": [
      "\u001b[31m---------------------------------------------------------------------------\u001b[39m",
      "\u001b[31mNameError\u001b[39m                                 Traceback (most recent call last)",
      "\u001b[36mCell\u001b[39m\u001b[36m \u001b[39m\u001b[32mIn[3]\u001b[39m\u001b[32m, line 21\u001b[39m\n\u001b[32m     18\u001b[39m         x = \u001b[38;5;28mself\u001b[39m.fc3(x)\n\u001b[32m     20\u001b[39m         \u001b[38;5;28;01mreturn\u001b[39;00m x\n\u001b[32m---> \u001b[39m\u001b[32m21\u001b[39m \u001b[43mmodel\u001b[49m\n",
      "\u001b[31mNameError\u001b[39m: name 'model' is not defined"
     ]
    }
   ],
   "source": [
    "class LinearNN(nn.Module):\n",
    "    def __init__(self, input_size=32*32*3, num_classes=10):\n",
    "        super(LinearNN, self).__init__()\n",
    "        \n",
    "        # Define the model parts using linear layers\n",
    "        self.fc1 = nn.Linear(input_size, 512)  # First hidden layer\n",
    "        self.fc2 = nn.Linear(512, 256)        # Second hidden layer\n",
    "        self.fc3 = nn.Linear(256, num_classes)  # Output layer\n",
    "        self.relu = nn.ReLU()  # Activation function\n",
    "        \n",
    "    def forward(self, x):\n",
    "        # Flatten the input\n",
    "        x = x.view(x.size(0), -1)\n",
    "        \n",
    "        # Pass through the layers with activation\n",
    "        x = self.relu(self.fc1(x))\n",
    "        x = self.relu(self.fc2(x))\n",
    "        x = self.fc3(x)\n",
    "        \n",
    "        return x\n",
    "model = LinearNN()"
   ]
  },
  {
   "cell_type": "markdown",
   "id": "ceed55dc-b985-4018-b2c4-ad5647573331",
   "metadata": {},
   "source": [
    "### Define a Dataloader\n",
    "\n",
    "We Now need to prepare our dataloader with the batch size we want to train with! I provide the datasets here (with some simple image transforms such as converting PIL to tensor and then normalizing). Create the dataloaders from that!"
   ]
  },
  {
   "cell_type": "code",
   "execution_count": null,
   "id": "3b1872b9-2e0a-4f24-9a2f-ca0a8062bd95",
   "metadata": {},
   "outputs": [],
   "source": [
    "transform = transforms.Compose([\n",
    "    transforms.ToTensor(),\n",
    "    transforms.Normalize((0.5, 0.5, 0.5), (0.5, 0.5, 0.5))\n",
    "])\n",
    "\n",
    "trainset = torchvision.datasets.CIFAR10(root='./data', train=True, download=True, transform=transform)\n",
    "testset = torchvision.datasets.CIFAR10(root='./data', train=False, download=True, transform=transform)\n",
    "\n",
    "BATCH_SIZE = \n",
    "trainloader = \n",
    "testloader = \n"
   ]
  },
  {
   "cell_type": "markdown",
   "id": "8c67b72e-eb83-4bdf-aafe-022d2d6ac75d",
   "metadata": {},
   "source": [
    "### Train a Model\n",
    "\n",
    "Train your model for however many epochs you want. Make sure to calculate the average loss and accuracy per epoch for both the training set and evaluation set so we can plot our training curves after!\n",
    "\n",
    "Things we need to set:\n",
    "\n",
    "- Device\n",
    "- Loss Function (what loss do we use for classification?)\n",
    "- Optimizer (you can use whatever you want, and whatever learning rate you want)"
   ]
  },
  {
   "cell_type": "code",
   "execution_count": null,
   "id": "7fb312da-ac5b-4d78-b2c5-3fbef4472a47",
   "metadata": {},
   "outputs": [],
   "source": [
    "### Set the Device ###\n",
    "device = \"cuda\" if torch.cuda.is_available() else \"cpu\"\n",
    "\n",
    "### Set the Loss Function ###\n",
    "criterion = \n",
    "\n",
    "### Load the Model ###\n",
    "model = \n",
    "\n",
    "### Set the Optimizer ###\n",
    "learning_rate = \n",
    "optimizer = \n",
    "\n",
    "### Training Loop ###\n",
    "epochs = \n",
    "\n",
    "# Store metrics\n",
    "train_losses = []\n",
    "train_accuracies = []\n",
    "val_losses = []\n",
    "val_accuracies = []\n",
    "\n",
    "# Training and validation loop\n",
    "epochs = \n",
    "\n",
    "### WRITE TRAINING LOOP ###\n",
    "### STORE THE PER EPOCH TRAIN/VAL LOSS/ACC IN THE ## \n",
    "### STORE METRICS LIST ABOVE ###\n",
    "\n"
   ]
  },
  {
   "cell_type": "markdown",
   "id": "22d3ba3b-eb34-4e39-ac36-4cf32527e81a",
   "metadata": {},
   "source": [
    "### Plot Loss and Accuracy"
   ]
  },
  {
   "cell_type": "code",
   "execution_count": null,
   "id": "d1628551-5db5-4f9d-baeb-edf44f18eb3a",
   "metadata": {},
   "outputs": [],
   "source": [
    "# Plot training and validation loss\n",
    "plt.figure(figsize=(10, 5))\n",
    "plt.plot(range(1, epochs + 1), train_losses, label='Train Loss')\n",
    "plt.plot(range(1, epochs + 1), val_losses, label='Validation Loss')\n",
    "plt.xlabel('Epochs')\n",
    "plt.ylabel('Loss')\n",
    "plt.legend()\n",
    "plt.title('Training and Validation Loss')\n",
    "plt.show()\n",
    "\n",
    "# Plot training and validation accuracy\n",
    "plt.figure(figsize=(10, 5))\n",
    "plt.plot(range(1, epochs + 1), train_accuracies, label='Train Accuracy')\n",
    "plt.plot(range(1, epochs + 1), val_accuracies, label='Validation Accuracy')\n",
    "plt.xlabel('Epochs')\n",
    "plt.ylabel('Accuracy (%)')\n",
    "plt.legend()\n",
    "plt.title('Training and Validation Accuracy')\n",
    "plt.show()"
   ]
  }
 ],
 "metadata": {
  "kernelspec": {
   "display_name": "myenv",
   "language": "python",
   "name": "python3"
  },
  "language_info": {
   "codemirror_mode": {
    "name": "ipython",
    "version": 3
   },
   "file_extension": ".py",
   "mimetype": "text/x-python",
   "name": "python",
   "nbconvert_exporter": "python",
   "pygments_lexer": "ipython3",
   "version": "3.13.0"
  }
 },
 "nbformat": 4,
 "nbformat_minor": 5
}
